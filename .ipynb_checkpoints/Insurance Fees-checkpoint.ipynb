{
 "cells": [
  {
   "cell_type": "markdown",
   "metadata": {},
   "source": [
    "### Health Insurance Fees\n",
    "\n",
    "<b> The goal</b> of this analysis is to use <b>patient data</b> to estimate the <b>average medical care expenses</b> for such population segments. These estimates could be used to create tables which set the price of yearly premiums higher or lower depending on the expected treatment costs."
   ]
  },
  {
   "cell_type": "markdown",
   "metadata": {},
   "source": [
    "## 1. Getting to know our data"
   ]
  },
  {
   "cell_type": "markdown",
   "metadata": {},
   "source": [
    "We will use a reproduced dataset that contains medical expenses for patients in the United States"
   ]
  },
  {
   "cell_type": "markdown",
   "metadata": {},
   "source": [
    "### 1.1 Importing"
   ]
  },
  {
   "cell_type": "code",
   "execution_count": null,
   "metadata": {},
   "outputs": [],
   "source": [
    "#Import relevant libraries\n",
    "\n",
    "import pandas as pd\n",
    "import seaborn as sns\n",
    "import matplotlib.pyplot as plt\n",
    "from sklearn.model_selection import train_test_split\n",
    "import scipy.stats as stats\n",
    "import statsmodels.api as sm\n",
    "import numpy as np\n",
    "import plotly.offline as pyo\n",
    "from plotly import __version__\n",
    "from plotly.offline import download_plotlyjs, init_notebook_mode, plot, iplot\n",
    "# import plotly.plotly as py\n",
    "import plotly.graph_objs as go\n",
    "import chart_studio.plotly"
   ]
  },
  {
   "cell_type": "code",
   "execution_count": null,
   "metadata": {},
   "outputs": [],
   "source": [
    "#Read in csv file as dataframe\n",
    "insurance = pd.read_csv('insurance.csv')\n",
    "insurance.head(1)"
   ]
  },
  {
   "cell_type": "markdown",
   "metadata": {},
   "source": [
    "### 1.2 How our data looks "
   ]
  },
  {
   "cell_type": "code",
   "execution_count": null,
   "metadata": {},
   "outputs": [],
   "source": [
    "#print info\n",
    "insurance.info()"
   ]
  },
  {
   "cell_type": "code",
   "execution_count": null,
   "metadata": {},
   "outputs": [],
   "source": [
    "#print shape\n",
    "insurance.shape"
   ]
  },
  {
   "cell_type": "markdown",
   "metadata": {},
   "source": [
    "### 1.3 Decription of our data\n",
    "\n",
    "\n",
    "\n",
    "<h1><center>Type of data</center></h1> \n",
    "\n",
    "| Continuous | Categorical | Binary |\n",
    "| --- | --- | --- |\n",
    "| age | region | sex |\n",
    "| bmi | - | children |\n",
    "| charges | - | smoker |\n",
    "\n",
    "\n",
    "<h1><center>Feature description</center></h1> \n",
    "\n",
    "| Feature | Description |\n",
    "| --- | --- |\n",
    "| age | This is an integer indicating the age of the primary beneficiary <br> (excluding those above 64 years, since they are generally covered by the government). |\n",
    "| sex | This is the policy holder's gender, either male or female. |\n",
    "| bmi | This is the body mass index (BMI), which provides a sense of how over <br> or under-weight a person is relative to their height.BMI is equal to weight (in kilograms) <br> divided by height (in meters) squared. An ideal BMI is within the range of 18.5 to 24.9. |\n",
    "| children | This is an integer indicating the number of children / <br> dependents covered by the insurance plan. |\n",
    "| smoker | This is yes or no depending on whether the insured regularly smokes tobacco |\n",
    "| region | This is the beneficiary's place of residence in the U.S., <br> divided into four geographic regions: northeast, southeast, southwest, or northwest. |\n",
    "\n",
    "<h1><center>Response description</center></h1> \n",
    "\n",
    "| Response | Description |\n",
    "| --- | --- |\n",
    "| <font color='black'> charges </font>| <font color='black'>  Yearly medical expenses in dollars </font> | "
   ]
  },
  {
   "cell_type": "markdown",
   "metadata": {},
   "source": [
    "## 2. Cleaning data"
   ]
  },
  {
   "cell_type": "code",
   "execution_count": null,
   "metadata": {},
   "outputs": [],
   "source": [
    "# Checking for missing values\n",
    "insurance.isnull().sum()"
   ]
  },
  {
   "cell_type": "markdown",
   "metadata": {},
   "source": [
    "- There appears to be no missing values in out dataset"
   ]
  },
  {
   "cell_type": "code",
   "execution_count": null,
   "metadata": {},
   "outputs": [],
   "source": [
    "#Examining duplicates within dataset\n",
    "insurance.drop_duplicates(inplace= True)"
   ]
  },
  {
   "cell_type": "markdown",
   "metadata": {},
   "source": [
    "- All the duplicates that may have been apparent the dataset has been dropped "
   ]
  },
  {
   "cell_type": "code",
   "execution_count": null,
   "metadata": {},
   "outputs": [],
   "source": [
    "#Examining outliers\n",
    "sns.set()\n",
    "sns.set(style=\"whitegrid\")\n",
    "fig, axes = plt.subplots(2,2, figsize=(15, 15))\n",
    "sns.boxplot(x=insurance[\"age\"], ax=axes[0,0], data = insurance)\n",
    "sns.boxplot(x=insurance[\"bmi\"], ax=axes[0,1],data = insurance)\n",
    "sns.boxplot(x=insurance[\"charges\"], ax=axes[1,0], data = insurance);"
   ]
  },
  {
   "cell_type": "code",
   "execution_count": null,
   "metadata": {},
   "outputs": [],
   "source": [
    "#Creating an interquartile variable\n",
    "iqr = np.subtract(*np.percentile(insurance['charges'], [75, 25]))\n",
    "print(iqr)\n",
    "\n",
    "# identify outliers for charges\n",
    "\n",
    "q25, q75 = np.percentile(insurance['charges'], 25), np.percentile(insurance['charges'], 75)\n",
    "iqr = q75 - q25\n",
    "cut_off = iqr * 1.5\n",
    "lower, upper = q25 - cut_off, q75 + cut_off\n",
    "\n",
    "outliers = [x for x in insurance['charges'] if x < lower or x > upper]\n",
    "print('Identified outliers for charges out of 1138: %d' % len(outliers))\n",
    "\n",
    "\n",
    "# identify outliers for bmi\n",
    "q25, q75 = np.percentile(insurance['bmi'], 25), np.percentile(insurance['bmi'], 75)\n",
    "iqr = q75 - q25\n",
    "cut_off = iqr * 1.5\n",
    "lower, upper = q25 - cut_off, q75 + cut_off\n",
    "outliers = [x for x in insurance['bmi'] if x < lower or x > upper]\n",
    "print('Identified outliers for bmi out of 1338 records: %d' % len(outliers))\n",
    "\n",
    "\n",
    "# identify outliers for age\n",
    "q25, q75 = np.percentile(insurance['age'], 25), np.percentile(insurance['age'], 75)\n",
    "iqr = q75 - q25\n",
    "cut_off = iqr * 1.5\n",
    "lower, upper = q25 - cut_off, q75 + cut_off\n",
    "\n",
    "outliers = [x for x in insurance['age'] if x < lower or x > upper]\n",
    "print('Identified outliers for age out of 1338 records: %d' % len(outliers))"
   ]
  },
  {
   "cell_type": "markdown",
   "metadata": {},
   "source": [
    "From the calculations above we can see that:\n",
    "- The identified outliers for the column charges amounts to 139\n",
    "- The identified outliers for the column bmi amounts to 9\n",
    "- The have not been any outliers identified in the age column\n",
    "\n",
    "No outlier will be removed as the outiers contain information that will be needed in order to do futher predictions"
   ]
  },
  {
   "cell_type": "markdown",
   "metadata": {},
   "source": [
    "## 4. Distribution"
   ]
  },
  {
   "cell_type": "code",
   "execution_count": null,
   "metadata": {},
   "outputs": [],
   "source": [
    "#2.1.2 Describe the center of your data\n",
    "#Mean: \n",
    "mean= insurance[\"charges\"].mean()\n",
    "print(\"The mean charges is:\",mean)\n",
    "    \n",
    "#Median:    \n",
    "median = insurance[\"charges\"].median()\n",
    "print(\"The median charges is:\",median)\n",
    "\n",
    "#Mode:\n",
    "mode = 1639.5631 #insurance[\"charges\"].mode()\n",
    "print(\"The charges that appears the most is:\", mode)\n",
    "\n",
    "#Graphics\n",
    "f, (ax_box, ax_hist) = plt.subplots(2, sharex=True, gridspec_kw= {\"height_ratios\": (0.2, 1)})\n",
    "\n",
    "x = insurance[\"charges\"]\n",
    "\n",
    "sns.boxplot(x, ax=ax_box)\n",
    "ax_box.axvline(mean, color='r', linestyle='--')\n",
    "ax_box.axvline(median, color='g', linestyle='-')\n",
    "ax_box.axvline(mode, color='b', linestyle='-')\n",
    "\n",
    "sns.distplot(x, ax=ax_hist)\n",
    "ax_hist.axvline(mean, color='r', linestyle='--')\n",
    "ax_hist.axvline(median, color='g', linestyle='-')\n",
    "ax_hist.axvline(mode, color='b', linestyle='-')\n",
    "\n",
    "plt.legend({'Mean':mean,'Median':median,'Mode':mode})\n",
    "\n",
    "ax_box.set(xlabel='charges')\n",
    "ax_hist.set(xlabel='Charges')\n",
    "\n",
    "plt.show()"
   ]
  },
  {
   "cell_type": "markdown",
   "metadata": {},
   "source": [
    "- The large majority of individuals in our data have yearly medical expenses between 0 dollars and 15,000 dollars, although the tail of the distribution extends far past these peaks.\n",
    "- The mean value is greater than the median, this implies that the distribution of insurance charges is right-skewed\n",
    "- Linear regression assumes a normal distribution for the dependent variable, this distribution is not ideal.\n",
    " The assumptions of linear regression is violated.\n",
    "- The package that seems to be the most popular is the one that amouts to the charges $1639.56"
   ]
  },
  {
   "cell_type": "code",
   "execution_count": null,
   "metadata": {},
   "outputs": [],
   "source": [
    "#2.1.2 Describe the center of your data\n",
    "#Mean: \n",
    "mean= insurance[\"age\"].mean()\n",
    "print(\"The mean age is:\",mean)\n",
    "    \n",
    "#Median:    \n",
    "median = insurance[\"age\"].median()\n",
    "print(\"The median age is:\",median)\n",
    "\n",
    "#Mode:\n",
    "mode = 18 #insurance[\"age\"].mode()\n",
    "print(\"The age that appears the most is:\", mode)\n",
    "\n",
    "#Graphics\n",
    "f, (ax_box, ax_hist) = plt.subplots(2, sharex=True, gridspec_kw= {\"height_ratios\": (0.2, 1)})\n",
    "\n",
    "x = insurance[\"age\"]\n",
    "\n",
    "sns.boxplot(x, ax=ax_box)\n",
    "ax_box.axvline(mean, color='r', linestyle='--')\n",
    "ax_box.axvline(median, color='g', linestyle='-')\n",
    "ax_box.axvline(mode, color='b', linestyle='-')\n",
    "\n",
    "sns.distplot(x, ax=ax_hist)\n",
    "ax_hist.axvline(mean, color='r', linestyle='--')\n",
    "ax_hist.axvline(median, color='g', linestyle='-')\n",
    "ax_hist.axvline(mode, color='b', linestyle='-')\n",
    "\n",
    "plt.legend({'Mean':mean,'Median':median,'Mode':mode})\n",
    "\n",
    "ax_box.set(xlabel='Age')\n",
    "ax_hist.set(xlabel='Age')\n",
    "\n",
    "plt.show()"
   ]
  },
  {
   "cell_type": "markdown",
   "metadata": {},
   "source": [
    "- The large majority of individuals in our data have ages within the decade 20, although the tail of the distribution extends far past these peaks.\n",
    "- The mean value is fairly close the median we could say that they are equal, however there seems to be more peaks so this implies a bimodal distribution\n",
    "- The age "
   ]
  },
  {
   "cell_type": "code",
   "execution_count": null,
   "metadata": {},
   "outputs": [],
   "source": [
    "#2.1.2 Describe the center of your data\n",
    "#Mean: \n",
    "mean= insurance[\"bmi\"].mean()\n",
    "print(\"The mean bmi is:\",mean)\n",
    "    \n",
    "#Median:    \n",
    "median = insurance[\"bmi\"].median()\n",
    "print(\"The median bmi is:\",median)\n",
    "\n",
    "#Mode:\n",
    "mode = 32.3 #insurance[\"bmi\"].mode()\n",
    "print(\"The bmi that appears the most is:\", mode)\n",
    "\n",
    "#Graphics\n",
    "f, (ax_box, ax_hist) = plt.subplots(2, sharex=True, gridspec_kw= {\"height_ratios\": (0.2, 1)})\n",
    "\n",
    "x = insurance[\"bmi\"]\n",
    "\n",
    "sns.boxplot(x, ax=ax_box)\n",
    "ax_box.axvline(mean, color='r', linestyle='--')\n",
    "ax_box.axvline(median, color='g', linestyle='-')\n",
    "ax_box.axvline(mode, color='b', linestyle='-')\n",
    "\n",
    "sns.distplot(x, ax=ax_hist)\n",
    "ax_hist.axvline(mean, color='r', linestyle='--')\n",
    "ax_hist.axvline(median, color='g', linestyle='-')\n",
    "ax_hist.axvline(mode, color='b', linestyle='-')\n",
    "\n",
    "plt.legend({'Mean':mean,'Median':median,'Mode':mode})\n",
    "\n",
    "ax_box.set(xlabel='bmi')\n",
    "ax_hist.set(xlabel='bmi')\n",
    "\n",
    "plt.show()"
   ]
  },
  {
   "cell_type": "markdown",
   "metadata": {},
   "source": [
    "- The large majority of individuals in our data have body mass indexes between 25 and 35\n",
    "- The mean value is fairly close the median we could say that they are equal, this implies that the distribution of the body mass indexes is symmetric."
   ]
  },
  {
   "cell_type": "code",
   "execution_count": null,
   "metadata": {},
   "outputs": [],
   "source": [
    "# scatter plot with regression plot (target)\n",
    "\n",
    "print('The correlation and the pvalue of age and charges are respectively:',stats.pearsonr(insurance['age'], insurance['charges']))\n",
    "print('The correlation and the pvalue of bmi and charges are respectively:',stats.pearsonr(insurance['bmi'], insurance['charges']))\n",
    "\n",
    "sns.set()\n",
    "# sns.set(style = 'whitegrid')\n",
    "fig, axes = plt.subplots(1,2, figsize=(16,16))\n",
    "\n",
    "sns.regplot(x=insurance['age'], y=insurance['charges'], ax= axes[0])\n",
    "sns.regplot(x=insurance['bmi'], y=insurance['charges'],ax= axes[1]);"
   ]
  },
  {
   "cell_type": "markdown",
   "metadata": {},
   "source": [
    "## 4. Statistical Infernces"
   ]
  },
  {
   "cell_type": "code",
   "execution_count": null,
   "metadata": {},
   "outputs": [],
   "source": [
    "fig, ax = plt.subplots(2,2, figsize=(15,7))\n",
    "# use unstack()\n",
    "insurance.groupby(['children','region']).count()['charges'].unstack().plot(ax=ax[0,0])\n",
    "insurance.groupby(['children','sex']).count()['charges'].unstack().plot(ax=ax[0,1])\n",
    "insurance.groupby(['children','smoker']).count()['charges'].unstack().plot(ax=ax[1,0]);"
   ]
  },
  {
   "cell_type": "code",
   "execution_count": null,
   "metadata": {},
   "outputs": [],
   "source": [
    "fig, ax = plt.subplots(2,2, figsize=(15,7))\n",
    "# use unstack()\n",
    "insurance.groupby(['age','region']).count()['charges'].unstack().plot(ax=ax[0,0])\n",
    "insurance.groupby(['age','sex']).count()['charges'].unstack().plot(ax=ax[0,1])\n",
    "insurance.groupby(['age','smoker']).count()['charges'].unstack().plot(ax=ax[1,0]);"
   ]
  },
  {
   "cell_type": "code",
   "execution_count": null,
   "metadata": {},
   "outputs": [],
   "source": [
    "fig, ax = plt.subplots(2,2, figsize=(15,7))\n",
    "# use unstack()\n",
    "insurance.groupby(['bmi','region']).count()['charges'].unstack().plot(ax=ax[0,0])\n",
    "insurance.groupby(['bmi','sex']).count()['charges'].unstack().plot(ax=ax[0,1])\n",
    "insurance.groupby(['bmi','smoker']).count()['charges'].unstack().plot(ax=ax[1,0]);"
   ]
  },
  {
   "cell_type": "code",
   "execution_count": null,
   "metadata": {},
   "outputs": [],
   "source": [
    "import plotly.express as px\n",
    "df = px.data.tips()\n",
    "fig = px.histogram(insurance, x=\"age\", y=\"bmi\", color=\"smoker\",\n",
    "                   marginal=\"box\", \n",
    "                   hover_data=insurance.columns)\n",
    "fig.show()"
   ]
  },
  {
   "cell_type": "code",
   "execution_count": null,
   "metadata": {},
   "outputs": [],
   "source": [
    "import plotly.express as px\n",
    "df = px.data.tips()\n",
    "fig = px.histogram(insurance, x=\"age\", y=\"charges\", color=\"children\",\n",
    "                   marginal=\"box\",\n",
    "                   hover_data=insurance.columns)\n",
    "fig.show()"
   ]
  },
  {
   "cell_type": "code",
   "execution_count": null,
   "metadata": {},
   "outputs": [],
   "source": [
    "import plotly.express as px\n",
    "df = px.data.tips()\n",
    "fig = px.histogram(insurance, x=\"sex\", y=\"bmi\", color=\"region\",\n",
    "                   marginal=\"box\", \n",
    "                   hover_data=insurance.columns)\n",
    "fig.show()"
   ]
  },
  {
   "cell_type": "code",
   "execution_count": null,
   "metadata": {},
   "outputs": [],
   "source": [
    "import plotly.express as px\n",
    "df = px.data.tips()\n",
    "fig = px.histogram(insurance, x=\"age\", y=\"bmi\", color=\"region\",\n",
    "                   marginal=\"box\", \n",
    "                   hover_data=insurance.columns)\n",
    "fig.show()"
   ]
  },
  {
   "cell_type": "code",
   "execution_count": null,
   "metadata": {},
   "outputs": [],
   "source": [
    "import plotly.graph_objects as go # or plotly.express as px\n",
    "fig = go.Figure() # or any Plotly Express function e.g. px.bar(...)\n",
    "# fig.add_trace( ... )\n",
    "# fig.update_layout( ... )\n",
    "\n",
    "import dash\n",
    "import dash_core_components as dcc\n",
    "import dash_html_components as html\n",
    "\n",
    "app = dash.Dash()\n",
    "app.layout = html.Div([\n",
    "    dcc.Graph(figure=fig)\n",
    "])\n",
    "\n",
    "app.run_server(debug=True, use_reloader=False)  # Turn off reloader if inside Jupyter"
   ]
  }
 ],
 "metadata": {
  "kernelspec": {
   "display_name": "Python 3",
   "language": "python",
   "name": "python3"
  },
  "language_info": {
   "codemirror_mode": {
    "name": "ipython",
    "version": 3
   },
   "file_extension": ".py",
   "mimetype": "text/x-python",
   "name": "python",
   "nbconvert_exporter": "python",
   "pygments_lexer": "ipython3",
   "version": "3.7.3"
  }
 },
 "nbformat": 4,
 "nbformat_minor": 2
}
